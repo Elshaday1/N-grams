{
 "cells": [
  {
   "cell_type": "code",
   "execution_count": 1,
   "id": "1291a521",
   "metadata": {},
   "outputs": [],
   "source": [
    "from nltk.corpus import brown\n",
    "from nltk.tokenize import word_tokenize\n",
    "import nltk\n",
    "nltk.download('punkt')"
   ]
  },
  {
   "cell_type": "code",
   "execution_count": 22,
   "id": "2f049628",
   "metadata": {},
   "outputs": [],
   "source": [
    "corpus = brown.words()\n",
    "#converting everything to lowercase \n",
    "lower_case_corpus = [w.lower() for w in corpus]\n",
    "vocab = set(lower_case_corpus)"
   ]
  },
  {
   "cell_type": "code",
   "execution_count": 3,
   "id": "409d0f02",
   "metadata": {},
   "outputs": [
    {
     "name": "stdout",
     "output_type": "stream",
     "text": [
      "Total words in Corpus: 1161192\n",
      "Vocab of the Corpus: 49815\n"
     ]
    }
   ],
   "source": [
    "print('Total words in Corpus: ' + str(len(lower_case_corpus)))\n",
    "print('Vocab of the Corpus: ' + str(len(vocab)))"
   ]
  },
  {
   "cell_type": "code",
   "execution_count": 4,
   "id": "1cf52c81",
   "metadata": {},
   "outputs": [
    {
     "name": "stdout",
     "output_type": "stream",
     "text": [
      "Example, count for bigram ('the', 'king') is: 51\n"
     ]
    }
   ],
   "source": [
    "bigram_counts = {}\n",
    "trigram_counts = {}\n",
    "\n",
    "#sliding through corpus to get bigram and trigram counts\n",
    "for i in range(len(lower_case_corpus) - 2):\n",
    "    #getting bigram and trigram at each slide\n",
    "    bigram = (lower_case_corpus[i], lower_case_corpus[i+1])\n",
    "    trigram = (lower_case_corpus[i], lower_case_corpus[i+1], lower_case_corpus[i+2])\n",
    "    \n",
    "    #keeping track of the bigram counts\n",
    "    if bigram in bigram_counts.keys():\n",
    "        bigram_counts[bigram] += 1\n",
    "    else:\n",
    "        bigram_counts[bigram] = 1\n",
    "    \n",
    "    #keeping track of trigram counts\n",
    "    if trigram in trigram_counts.keys():\n",
    "        trigram_counts[trigram] += 1\n",
    "    else:\n",
    "        trigram_counts[trigram] = 1\n",
    "\n",
    "print(\"Example, count for bigram ('the', 'king') is: \" + str(bigram_counts[('the', 'king')]))"
   ]
  },
  {
   "cell_type": "code",
   "execution_count": null,
   "id": "88b3cdf1",
   "metadata": {},
   "outputs": [],
   "source": []
  },
  {
   "cell_type": "code",
   "execution_count": 9,
   "id": "88d21864",
   "metadata": {},
   "outputs": [],
   "source": [
    "#function takes a sentence as input and suggests possible words that could follow up\n",
    "def suggest_next_word(input_, bigram_counts, trigram_counts, vocab):\n",
    "    #consider the last bigram of sentence\n",
    "    tokenized_input = word_tokenize(input_.lower())\n",
    "    last_bigram = tokenized_input[-2:]\n",
    "    \n",
    "    #calculate the chance for every word in the vocab\n",
    "    vocab_probabilities = {}\n",
    "    for vocab_word in vocab:\n",
    "        test_trigram = (last_bigram[0], last_bigram[1], vocab_word)\n",
    "        test_bigram = (last_bigram[0], last_bigram[1])\n",
    "\n",
    "        test_trigram_count = trigram_counts.get(test_trigram, 0)\n",
    "        test_bigram_count = bigram_counts.get(test_bigram, 0)\n",
    "        \n",
    "        probability = test_trigram_count / test_bigram_count\n",
    "        vocab_probabilities[vocab_word] = probability\n",
    "    \n",
    "    #sorting to pick out the most probable words\n",
    "    top_suggestions = sorted(vocab_probabilities.items(), key=lambda x: x[1], reverse=True)[:3]\n",
    "    return top_suggestions"
   ]
  },
  {
   "cell_type": "code",
   "execution_count": 25,
   "id": "da84ea6a",
   "metadata": {},
   "outputs": [
    {
     "data": {
      "text/plain": [
       "[('not', 0.11594202898550725),\n",
       " ('a', 0.06280193236714976),\n",
       " ('sure', 0.04830917874396135)]"
      ]
     },
     "execution_count": 25,
     "metadata": {},
     "output_type": "execute_result"
    }
   ],
   "source": [
    "suggest_next_word('I am', bigram_counts, trigram_counts, vocab)"
   ]
  },
  {
   "cell_type": "code",
   "execution_count": 26,
   "id": "3fa92be5",
   "metadata": {},
   "outputs": [
    {
     "data": {
      "text/plain": [
       "[('a', 0.08), ('to', 0.08), ('comparing', 0.04)]"
      ]
     },
     "execution_count": 26,
     "metadata": {},
     "output_type": "execute_result"
    }
   ],
   "source": [
    "suggest_next_word('I am not', bigram_counts, trigram_counts, vocab)"
   ]
  },
  {
   "cell_type": "code",
   "execution_count": 27,
   "id": "95a84c87",
   "metadata": {},
   "outputs": [
    {
     "data": {
      "text/plain": [
       "[('single', 0.03289473684210526),\n",
       " ('man', 0.02631578947368421),\n",
       " ('``', 0.019736842105263157)]"
      ]
     },
     "execution_count": 27,
     "metadata": {},
     "output_type": "execute_result"
    }
   ],
   "source": [
    "suggest_next_word('I am not a', bigram_counts, trigram_counts, vocab)"
   ]
  },
  {
   "cell_type": "code",
   "execution_count": 29,
   "id": "1638d00f",
   "metadata": {},
   "outputs": [
    {
     "data": {
      "text/plain": [
       "[('who', 0.14130434782608695),\n",
       " ('of', 0.09782608695652174),\n",
       " ('with', 0.06159420289855073)]"
      ]
     },
     "execution_count": 29,
     "metadata": {},
     "output_type": "execute_result"
    }
   ],
   "source": [
    "suggest_next_word('I am not a man', bigram_counts, trigram_counts, vocab)"
   ]
  },
  {
   "cell_type": "code",
   "execution_count": 30,
   "id": "14308d35",
   "metadata": {},
   "outputs": [
    {
     "data": {
      "text/plain": [
       "[('had', 0.09090909090909091),\n",
       " ('was', 0.06818181818181818),\n",
       " ('could', 0.06818181818181818)]"
      ]
     },
     "execution_count": 30,
     "metadata": {},
     "output_type": "execute_result"
    }
   ],
   "source": [
    "suggest_next_word('I am not a man who', bigram_counts, trigram_counts, vocab)"
   ]
  },
  {
   "cell_type": "code",
   "execution_count": 31,
   "id": "4a337682",
   "metadata": {},
   "outputs": [
    {
     "data": {
      "text/plain": [
       "[('not', 0.2), ('afford', 0.1), ('see', 0.06666666666666667)]"
      ]
     },
     "execution_count": 31,
     "metadata": {},
     "output_type": "execute_result"
    }
   ],
   "source": [
    "suggest_next_word('I am not a man who could', bigram_counts, trigram_counts, vocab)"
   ]
  },
  {
   "cell_type": "code",
   "execution_count": 32,
   "id": "c068eb6e",
   "metadata": {},
   "outputs": [
    {
     "data": {
      "text/plain": [
       "[('the', 0.25287356321839083),\n",
       " ('that', 0.09195402298850575),\n",
       " ('a', 0.04597701149425287)]"
      ]
     },
     "execution_count": 32,
     "metadata": {},
     "output_type": "execute_result"
    }
   ],
   "source": [
    "suggest_next_word('I am not a man who could see', bigram_counts, trigram_counts, vocab)"
   ]
  },
  {
   "cell_type": "code",
   "execution_count": 33,
   "id": "c43cdf8a",
   "metadata": {},
   "outputs": [],
   "source": [
    "#...."
   ]
  },
  {
   "cell_type": "code",
   "execution_count": null,
   "id": "acf8fa5c",
   "metadata": {},
   "outputs": [],
   "source": []
  }
 ],
 "metadata": {
  "kernelspec": {
   "display_name": "Python 3 (ipykernel)",
   "language": "python",
   "name": "python3"
  },
  "language_info": {
   "codemirror_mode": {
    "name": "ipython",
    "version": 3
   },
   "file_extension": ".py",
   "mimetype": "text/x-python",
   "name": "python",
   "nbconvert_exporter": "python",
   "pygments_lexer": "ipython3",
   "version": "3.10.9"
  }
 },
 "nbformat": 4,
 "nbformat_minor": 5
}
