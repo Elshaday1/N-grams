{
 "cells": [
  {
   "cell_type": "code",
   "execution_count": 1,
   "id": "e0c46420",
   "metadata": {},
   "outputs": [],
   "source": [
    "import nltk.corpus"
   ]
  },
  {
   "cell_type": "code",
   "execution_count": 3,
   "id": "60c6ae19",
   "metadata": {},
   "outputs": [
    {
     "name": "stderr",
     "output_type": "stream",
     "text": [
      "[nltk_data] Downloading package brown to\n",
      "[nltk_data]     C:\\Users\\Hp\\AppData\\Roaming\\nltk_data...\n",
      "[nltk_data]   Unzipping corpora\\brown.zip.\n"
     ]
    },
    {
     "data": {
      "text/plain": [
       "True"
      ]
     },
     "execution_count": 3,
     "metadata": {},
     "output_type": "execute_result"
    }
   ],
   "source": [
    "nltk.download('brown')"
   ]
  },
  {
   "cell_type": "code",
   "execution_count": 4,
   "id": "cfba700b",
   "metadata": {},
   "outputs": [],
   "source": [
    "sentences =  nltk.corpus.brown.sents()"
   ]
  },
  {
   "cell_type": "code",
   "execution_count": 5,
   "id": "82a73846",
   "metadata": {},
   "outputs": [
    {
     "data": {
      "text/plain": [
       "57340"
      ]
     },
     "execution_count": 5,
     "metadata": {},
     "output_type": "execute_result"
    }
   ],
   "source": [
    "len(sentences)"
   ]
  },
  {
   "cell_type": "code",
   "execution_count": 7,
   "id": "643a0da9",
   "metadata": {},
   "outputs": [],
   "source": [
    "n_grams = {}"
   ]
  },
  {
   "cell_type": "code",
   "execution_count": 9,
   "id": "8df3d8be",
   "metadata": {},
   "outputs": [],
   "source": [
    "for sentence in sentences:\n",
    "    words = [word for word in sentence if word[0].isalpha()]\n",
    "    for ix in range(len(words) - 1): #consider only the word until the last word since it doesnt have a followup word\n",
    "        try:\n",
    "            n_grams[words[ix]].append(words[ix+1])\n",
    "        except KeyError as _:\n",
    "            n_grams[words[ix]] = []\n",
    "            n_grams[words[ix]].append(words[ix+1])"
   ]
  },
  {
   "cell_type": "code",
   "execution_count": 11,
   "id": "b9229029",
   "metadata": {},
   "outputs": [],
   "source": [
    "#a function to generate a sentence from the n-grams\n",
    "import random \n",
    "def generate_sentence(nb=7): #nb= no of words in the sentence\n",
    "    words = []\n",
    "    next_word = random.choice(list(n_grams.keys()))\n",
    "    words.append(next_word)\n",
    "    while len(words) < nb:\n",
    "        next_word = random.choice(n_grams[next_word])\n",
    "        words.append(next_word)\n",
    "        \n",
    "    return \" \".join(words)"
   ]
  },
  {
   "cell_type": "code",
   "execution_count": 15,
   "id": "baa1cd9e",
   "metadata": {},
   "outputs": [
    {
     "data": {
      "text/plain": [
       "\"alligator shoes and memorials including Devil's horns\""
      ]
     },
     "execution_count": 15,
     "metadata": {},
     "output_type": "execute_result"
    }
   ],
   "source": [
    "generate_sentence()"
   ]
  },
  {
   "cell_type": "code",
   "execution_count": 17,
   "id": "7a4f5400",
   "metadata": {},
   "outputs": [],
   "source": []
  },
  {
   "cell_type": "code",
   "execution_count": null,
   "id": "bb34caf5",
   "metadata": {},
   "outputs": [],
   "source": [
    "\n"
   ]
  },
  {
   "cell_type": "code",
   "execution_count": null,
   "id": "10b51e1f",
   "metadata": {},
   "outputs": [],
   "source": []
  }
 ],
 "metadata": {
  "kernelspec": {
   "display_name": "Python 3 (ipykernel)",
   "language": "python",
   "name": "python3"
  },
  "language_info": {
   "codemirror_mode": {
    "name": "ipython",
    "version": 3
   },
   "file_extension": ".py",
   "mimetype": "text/x-python",
   "name": "python",
   "nbconvert_exporter": "python",
   "pygments_lexer": "ipython3",
   "version": "3.10.9"
  }
 },
 "nbformat": 4,
 "nbformat_minor": 5
}
